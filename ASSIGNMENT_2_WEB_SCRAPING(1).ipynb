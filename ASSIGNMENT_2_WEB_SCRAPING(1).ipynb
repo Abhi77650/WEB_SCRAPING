{
 "cells": [
  {
   "cell_type": "code",
   "execution_count": 5,
   "id": "2e07068c",
   "metadata": {},
   "outputs": [
    {
     "name": "stdout",
     "output_type": "stream",
     "text": [
      "Defaulting to user installation because normal site-packages is not writeable\n",
      "Requirement already satisfied: selenium in c:\\users\\abhinav singh\\appdata\\roaming\\python\\python39\\site-packages (4.7.2)\n",
      "Requirement already satisfied: urllib3[socks]~=1.26 in c:\\programdata\\anaconda3\\lib\\site-packages (from selenium) (1.26.9)\n",
      "Requirement already satisfied: certifi>=2021.10.8 in c:\\programdata\\anaconda3\\lib\\site-packages (from selenium) (2021.10.8)\n",
      "Requirement already satisfied: trio-websocket~=0.9 in c:\\users\\abhinav singh\\appdata\\roaming\\python\\python39\\site-packages (from selenium) (0.9.2)\n",
      "Requirement already satisfied: trio~=0.17 in c:\\users\\abhinav singh\\appdata\\roaming\\python\\python39\\site-packages (from selenium) (0.22.0)\n",
      "Requirement already satisfied: sortedcontainers in c:\\programdata\\anaconda3\\lib\\site-packages (from trio~=0.17->selenium) (2.4.0)\n",
      "Requirement already satisfied: async-generator>=1.9 in c:\\users\\abhinav singh\\appdata\\roaming\\python\\python39\\site-packages (from trio~=0.17->selenium) (1.10)\n",
      "Requirement already satisfied: outcome in c:\\users\\abhinav singh\\appdata\\roaming\\python\\python39\\site-packages (from trio~=0.17->selenium) (1.2.0)\n",
      "Requirement already satisfied: sniffio in c:\\programdata\\anaconda3\\lib\\site-packages (from trio~=0.17->selenium) (1.2.0)\n",
      "Requirement already satisfied: idna in c:\\programdata\\anaconda3\\lib\\site-packages (from trio~=0.17->selenium) (3.3)\n",
      "Requirement already satisfied: exceptiongroup>=1.0.0rc9 in c:\\users\\abhinav singh\\appdata\\roaming\\python\\python39\\site-packages (from trio~=0.17->selenium) (1.0.4)\n",
      "Requirement already satisfied: attrs>=19.2.0 in c:\\programdata\\anaconda3\\lib\\site-packages (from trio~=0.17->selenium) (21.4.0)\n",
      "Requirement already satisfied: cffi>=1.14 in c:\\programdata\\anaconda3\\lib\\site-packages (from trio~=0.17->selenium) (1.15.0)\n",
      "Requirement already satisfied: pycparser in c:\\programdata\\anaconda3\\lib\\site-packages (from cffi>=1.14->trio~=0.17->selenium) (2.21)\n",
      "Requirement already satisfied: wsproto>=0.14 in c:\\users\\abhinav singh\\appdata\\roaming\\python\\python39\\site-packages (from trio-websocket~=0.9->selenium) (1.2.0)\n",
      "Requirement already satisfied: PySocks!=1.5.7,<2.0,>=1.5.6 in c:\\programdata\\anaconda3\\lib\\site-packages (from urllib3[socks]~=1.26->selenium) (1.7.1)\n",
      "Requirement already satisfied: h11<1,>=0.9.0 in c:\\users\\abhinav singh\\appdata\\roaming\\python\\python39\\site-packages (from wsproto>=0.14->trio-websocket~=0.9->selenium) (0.14.0)\n"
     ]
    }
   ],
   "source": [
    "!pip install selenium"
   ]
  },
  {
   "cell_type": "code",
   "execution_count": 6,
   "id": "583c7973",
   "metadata": {},
   "outputs": [],
   "source": [
    "import pandas as pd \n",
    "import numpy as np\n",
    "from selenium import webdriver\n",
    "import warnings\n",
    "warnings.filterwarnings('ignore')\n",
    "from selenium.webdriver.common.by import By"
   ]
  },
  {
   "cell_type": "markdown",
   "id": "65e47cf9",
   "metadata": {},
   "source": [
    "# Write a python program to scrape data for “Data Analyst” Job position in “Bangalore” location."
   ]
  },
  {
   "cell_type": "code",
   "execution_count": null,
   "id": "c59eabb6",
   "metadata": {},
   "outputs": [],
   "source": [
    "driver = webdriver.Chrome(r'C:\\Users\\Abhinav Singh\\Downloads\\chromedriver_win32\\chromedriver.exe')"
   ]
  },
  {
   "cell_type": "code",
   "execution_count": null,
   "id": "1d6982b1",
   "metadata": {},
   "outputs": [],
   "source": [
    "url='https://www.naukri.com/'\n",
    "driver.get(url)"
   ]
  },
  {
   "cell_type": "code",
   "execution_count": null,
   "id": "df3f07cc",
   "metadata": {},
   "outputs": [],
   "source": [
    "search_job=driver.find_element(By.CLASS_NAME, 'suggestor-input')\n",
    "search_job"
   ]
  },
  {
   "cell_type": "code",
   "execution_count": null,
   "id": "eb2b85ba",
   "metadata": {},
   "outputs": [],
   "source": [
    "search_job.send_keys('Data Analyst')"
   ]
  },
  {
   "cell_type": "code",
   "execution_count": null,
   "id": "3a51e5d8",
   "metadata": {},
   "outputs": [],
   "source": [
    "location_job=driver.find_element(By.XPATH,\"/html/body/div[1]/div[6]/div/div/div[5]/div/div/div/input\")\n",
    "location_job.send_keys('Bangalore')"
   ]
  },
  {
   "cell_type": "code",
   "execution_count": null,
   "id": "d39ad54c",
   "metadata": {},
   "outputs": [],
   "source": [
    "location_job.send_keys('Bangalore')"
   ]
  },
  {
   "cell_type": "code",
   "execution_count": null,
   "id": "a4917fc0",
   "metadata": {},
   "outputs": [],
   "source": [
    "search_btn=driver.find_element(By.CLASS_NAME,'qsbSubmit')\n",
    "search_btn.click()"
   ]
  },
  {
   "cell_type": "code",
   "execution_count": null,
   "id": "cbfa9397",
   "metadata": {},
   "outputs": [],
   "source": [
    "job_tags=driver.find_elements(By.XPATH,'//a[@class=\"title fw500 ellipsis\"]')"
   ]
  },
  {
   "cell_type": "code",
   "execution_count": null,
   "id": "2efedff0",
   "metadata": {},
   "outputs": [],
   "source": [
    "job_tags"
   ]
  },
  {
   "cell_type": "code",
   "execution_count": null,
   "id": "e85e7c17",
   "metadata": {},
   "outputs": [],
   "source": [
    "len(job_tags)"
   ]
  },
  {
   "cell_type": "code",
   "execution_count": null,
   "id": "4fbc8f3f",
   "metadata": {},
   "outputs": [],
   "source": [
    "titles=[]\n",
    "for i in job_tags:\n",
    "     titles.append(i.text)\n",
    "    \n",
    "len(titles)\n"
   ]
  },
  {
   "cell_type": "code",
   "execution_count": null,
   "id": "18f587eb",
   "metadata": {},
   "outputs": [],
   "source": [
    "location=driver.find_elements(By.XPATH,'//li[@class=\"fleft grey-text br2 placeHolderLi location\"]')\n"
   ]
  },
  {
   "cell_type": "code",
   "execution_count": null,
   "id": "740d2a49",
   "metadata": {},
   "outputs": [],
   "source": [
    "location"
   ]
  },
  {
   "cell_type": "code",
   "execution_count": null,
   "id": "55778fce",
   "metadata": {},
   "outputs": [],
   "source": [
    "Loc=[]\n",
    "for i in location:\n",
    "    Loc.append(i.text)\n",
    "    \n",
    "len(Loc)    "
   ]
  },
  {
   "cell_type": "code",
   "execution_count": null,
   "id": "38d563c6",
   "metadata": {},
   "outputs": [],
   "source": [
    "company=driver.find_elements(By.XPATH,'//a[@class=\"subTitle ellipsis fleft\"]')"
   ]
  },
  {
   "cell_type": "code",
   "execution_count": null,
   "id": "19fd4bc5",
   "metadata": {},
   "outputs": [],
   "source": [
    "company"
   ]
  },
  {
   "cell_type": "code",
   "execution_count": null,
   "id": "916f2e8a",
   "metadata": {},
   "outputs": [],
   "source": [
    "compny=[]\n",
    "for i in company:\n",
    "    compny.append(i.text)\n",
    "    \n",
    "len(compny) "
   ]
  },
  {
   "cell_type": "code",
   "execution_count": null,
   "id": "70f443aa",
   "metadata": {},
   "outputs": [],
   "source": [
    "exp=driver.find_elements(By.XPATH,'//span[contains(@title,\"Yrs\")]')"
   ]
  },
  {
   "cell_type": "code",
   "execution_count": null,
   "id": "c5e3cbe7",
   "metadata": {},
   "outputs": [],
   "source": [
    "exp"
   ]
  },
  {
   "cell_type": "code",
   "execution_count": null,
   "id": "afe4efc5",
   "metadata": {},
   "outputs": [],
   "source": [
    "expc=[]\n",
    "for i in exp:\n",
    "    expc.append(i.text)\n",
    "    \n",
    "expc \n",
    "len(expc)"
   ]
  },
  {
   "cell_type": "code",
   "execution_count": null,
   "id": "0451cdd2",
   "metadata": {},
   "outputs": [],
   "source": [
    "df=pd.DataFrame({'Job-Title':titles[0:18],'Job-Location':Loc[0:18],'Company-Name':compny[0:18],'Experience-required':expc})"
   ]
  },
  {
   "cell_type": "code",
   "execution_count": null,
   "id": "10611615",
   "metadata": {},
   "outputs": [],
   "source": [
    "df"
   ]
  },
  {
   "cell_type": "markdown",
   "id": "fc673c59",
   "metadata": {},
   "source": [
    " # 2.Write a python program to scrape data for “Data Scientist” Job position in “Bangalore” location"
   ]
  },
  {
   "cell_type": "code",
   "execution_count": null,
   "id": "dceab167",
   "metadata": {},
   "outputs": [],
   "source": [
    "driver = webdriver.Chrome(r'C:\\Users\\Abhinav Singh\\Downloads\\chromedriver_win32\\chromedriver.exe')"
   ]
  },
  {
   "cell_type": "code",
   "execution_count": null,
   "id": "a5b32921",
   "metadata": {},
   "outputs": [],
   "source": [
    "url='https://www.naukri.com/'\n",
    "driver.get(url)"
   ]
  },
  {
   "cell_type": "code",
   "execution_count": null,
   "id": "86ab8cce",
   "metadata": {},
   "outputs": [],
   "source": [
    "search_job=driver.find_element(By.CLASS_NAME, 'suggestor-input')\n",
    "search_job"
   ]
  },
  {
   "cell_type": "code",
   "execution_count": null,
   "id": "5d33b45b",
   "metadata": {},
   "outputs": [],
   "source": [
    "search_job.send_keys('Data Scientists')"
   ]
  },
  {
   "cell_type": "code",
   "execution_count": null,
   "id": "8897c521",
   "metadata": {},
   "outputs": [],
   "source": [
    "location_job=driver.find_element(By.XPATH,\"/html/body/div[1]/div[6]/div/div/div[5]/div/div/div/input\")\n",
    "location_job.send_keys('Bangalore')"
   ]
  },
  {
   "cell_type": "code",
   "execution_count": null,
   "id": "64ec3016",
   "metadata": {},
   "outputs": [],
   "source": [
    "location_job.send_keys('Bangalore')"
   ]
  },
  {
   "cell_type": "code",
   "execution_count": null,
   "id": "53cd6b56",
   "metadata": {},
   "outputs": [],
   "source": [
    "search_btn=driver.find_element(By.CLASS_NAME,'qsbSubmit')\n",
    "search_btn.click()"
   ]
  },
  {
   "cell_type": "code",
   "execution_count": null,
   "id": "ca010ea0",
   "metadata": {},
   "outputs": [],
   "source": [
    "job_tags=driver.find_elements(By.XPATH,'//a[@class=\"title fw500 ellipsis\"]')"
   ]
  },
  {
   "cell_type": "code",
   "execution_count": null,
   "id": "e4863253",
   "metadata": {},
   "outputs": [],
   "source": [
    "len(job_tags)"
   ]
  },
  {
   "cell_type": "code",
   "execution_count": null,
   "id": "9a32166f",
   "metadata": {},
   "outputs": [],
   "source": [
    "titles=[]\n",
    "for i in job_tags:\n",
    "     titles.append(i.text)\n",
    "    \n",
    "len(titles)\n"
   ]
  },
  {
   "cell_type": "code",
   "execution_count": null,
   "id": "f87191a8",
   "metadata": {},
   "outputs": [],
   "source": [
    "location=driver.find_elements(By.XPATH,'//li[@class=\"fleft grey-text br2 placeHolderLi location\"]')"
   ]
  },
  {
   "cell_type": "code",
   "execution_count": null,
   "id": "f45238f4",
   "metadata": {},
   "outputs": [],
   "source": [
    "Loc=[]\n",
    "for i in location:\n",
    "    Loc.append(i.text)\n",
    "    \n",
    "len(Loc)    "
   ]
  },
  {
   "cell_type": "code",
   "execution_count": null,
   "id": "e7a216a2",
   "metadata": {},
   "outputs": [],
   "source": [
    "company=driver.find_elements(By.XPATH,'//a[@class=\"subTitle ellipsis fleft\"]')"
   ]
  },
  {
   "cell_type": "code",
   "execution_count": null,
   "id": "40098ceb",
   "metadata": {},
   "outputs": [],
   "source": [
    "compny=[]\n",
    "for i in company:\n",
    "    compny.append(i.text)\n",
    "    \n",
    "len(compny) "
   ]
  },
  {
   "cell_type": "code",
   "execution_count": null,
   "id": "4e440397",
   "metadata": {},
   "outputs": [],
   "source": [
    "exp=driver.find_elements(By.XPATH,'//span[contains(@title,\"Yrs\")]')"
   ]
  },
  {
   "cell_type": "code",
   "execution_count": null,
   "id": "a7c4a0e2",
   "metadata": {},
   "outputs": [],
   "source": [
    "expc=[]\n",
    "for i in exp:\n",
    "    expc.append(i.text)\n",
    "    \n",
    "expc \n",
    "len(expc)"
   ]
  },
  {
   "cell_type": "code",
   "execution_count": null,
   "id": "36f06a08",
   "metadata": {},
   "outputs": [],
   "source": [
    "df=pd.DataFrame({'Job-Title':titles,'Job-Location':Loc,'Company-Name':compny,'Experience-required':expc})\n",
    "df"
   ]
  },
  {
   "cell_type": "markdown",
   "id": "771a25c6",
   "metadata": {},
   "source": [
    "# 3. In this question you have to scrape data using the filters available on the webpage as shown below"
   ]
  },
  {
   "cell_type": "code",
   "execution_count": null,
   "id": "d2535723",
   "metadata": {},
   "outputs": [],
   "source": [
    "driver = webdriver.Chrome(r'C:\\Users\\Abhinav Singh\\Downloads\\chromedriver_win32\\chromedriver.exe')"
   ]
  },
  {
   "cell_type": "code",
   "execution_count": null,
   "id": "021a37fd",
   "metadata": {},
   "outputs": [],
   "source": [
    "url3='https://www.naukri.com/'\n",
    "driver.get(url)"
   ]
  },
  {
   "cell_type": "code",
   "execution_count": null,
   "id": "e87462ea",
   "metadata": {},
   "outputs": [],
   "source": [
    "designation=driver.find_element(By.CLASS_NAME,\"suggestor-input \")\n",
    "designation.send_keys('Data Scientist')"
   ]
  },
  {
   "cell_type": "code",
   "execution_count": null,
   "id": "659aec29",
   "metadata": {},
   "outputs": [],
   "source": [
    "location=driver.find_element(By.XPATH,\"/html/body/div[1]/div[6]/div/div/div[5]/div/div/div/input\")\n",
    "location.send_keys('Delhi/NCR')"
   ]
  },
  {
   "cell_type": "code",
   "execution_count": null,
   "id": "3d053726",
   "metadata": {},
   "outputs": [],
   "source": [
    "search=driver.find_element(By.CLASS_NAME,\"qsbSubmit\")\n",
    "search.click()"
   ]
  },
  {
   "cell_type": "code",
   "execution_count": null,
   "id": "2ee84c89",
   "metadata": {},
   "outputs": [],
   "source": [
    "job_title=[]\n",
    "job_location=[]\n",
    "company_name=[]\n",
    "experience_required=[]"
   ]
  },
  {
   "cell_type": "code",
   "execution_count": null,
   "id": "d088bdc9",
   "metadata": {},
   "outputs": [],
   "source": [
    "title_tags=driver.find_elements(By.XPATH,'//a[@class=\"title fw500 ellipsis\"]')\n",
    "for i in title_tags[0:10]:\n",
    "    title=i.text\n",
    "    job_title.append(title)\n",
    "    \n",
    "    \n",
    "location_tags=driver.find_elements(By.XPATH,'//li[@class=\"fleft grey-text br2 placeHolderLi location\"]')\n",
    "for i in location_tags[0:10]:\n",
    "    location=i.text\n",
    "    job_location.append(location)\n",
    "    \n",
    "    \n",
    "company_tags=driver.find_elements(By.XPATH,'//a[@class=\"subTitle ellipsis fleft\"]')\n",
    "for i in company_tags[0:10]:\n",
    "    company=i.text\n",
    "    company_name.append(company)\n",
    "    \n",
    "    \n",
    "experience_tags=driver.find_elements(By.XPATH,'//div[@class=\"job-description fs12 grey-text\"]')\n",
    "for i in experience_tags[0:10]:\n",
    "    exp=i.text\n",
    "    experience_required.append(exp)"
   ]
  },
  {
   "cell_type": "code",
   "execution_count": null,
   "id": "1b62e2bb",
   "metadata": {},
   "outputs": [],
   "source": [
    "print(len(job_title),len(job_location),len(company_name),len(experience_required))"
   ]
  },
  {
   "cell_type": "code",
   "execution_count": null,
   "id": "030a26f7",
   "metadata": {},
   "outputs": [],
   "source": [
    "pd.DataFrame({'job_title':job_title,'job_location':job_location,'company_name':company_name,'exp_required':experience_required})"
   ]
  },
  {
   "cell_type": "markdown",
   "id": "47e471b0",
   "metadata": {},
   "source": [
    "# Scrape data of first 100 sunglasses listings on flipkart.com. You have to scrape four attributes:"
   ]
  },
  {
   "cell_type": "code",
   "execution_count": 7,
   "id": "25b1904a",
   "metadata": {},
   "outputs": [],
   "source": [
    "driver = webdriver.Chrome(r'C:\\Users\\Abhinav Singh\\Downloads\\chromedriver_win32\\chromedriver.exe')"
   ]
  },
  {
   "cell_type": "code",
   "execution_count": null,
   "id": "ecea3b33",
   "metadata": {},
   "outputs": [],
   "source": [
    "driver.get(\"https://www.flipkart.com/\")"
   ]
  },
  {
   "cell_type": "code",
   "execution_count": null,
   "id": "b7bd782b",
   "metadata": {},
   "outputs": [],
   "source": [
    "search_glass=driver.find_element(By.CLASS_NAME,'_3704LK')\n",
    "search_glass"
   ]
  },
  {
   "cell_type": "code",
   "execution_count": null,
   "id": "ae5b5321",
   "metadata": {},
   "outputs": [],
   "source": [
    "search_glass.send_keys('sunglasses')"
   ]
  },
  {
   "cell_type": "code",
   "execution_count": null,
   "id": "6cc56131",
   "metadata": {},
   "outputs": [],
   "source": [
    "search_btn=driver.find_element(By.CLASS_NAME,'L0Z3Pu')\n",
    "search_btn.click()"
   ]
  },
  {
   "cell_type": "code",
   "execution_count": null,
   "id": "b402c4dd",
   "metadata": {},
   "outputs": [],
   "source": [
    "brands=driver.find_element(By.CLASS_NAME,'_2WkVRV')"
   ]
  },
  {
   "cell_type": "code",
   "execution_count": null,
   "id": "3bf5ffc7",
   "metadata": {},
   "outputs": [],
   "source": [
    "brands"
   ]
  },
  {
   "cell_type": "code",
   "execution_count": null,
   "id": "f1d0c3ca",
   "metadata": {},
   "outputs": [],
   "source": [
    "brands=driver.find_elements(By.XPATH,'//div[@class=\"_2WkVRV\"]')\n",
    "brands"
   ]
  },
  {
   "cell_type": "code",
   "execution_count": null,
   "id": "c9d82ebe",
   "metadata": {},
   "outputs": [],
   "source": [
    "name=[]\n",
    "for i in brands:\n",
    "    name.append(i.text)\n",
    "    \n",
    "name    "
   ]
  },
  {
   "cell_type": "code",
   "execution_count": null,
   "id": "50b0c166",
   "metadata": {},
   "outputs": [],
   "source": [
    "features=driver.find_elements(By.XPATH,'//a[@class=\"IRpwTa\"]')\n",
    "features"
   ]
  },
  {
   "cell_type": "code",
   "execution_count": null,
   "id": "a229f56a",
   "metadata": {},
   "outputs": [],
   "source": [
    "feature_name=[]\n",
    "for i in features:\n",
    "    feature_name.append(i.text)\n",
    "    \n",
    "feature_name"
   ]
  },
  {
   "cell_type": "code",
   "execution_count": null,
   "id": "72a4807e",
   "metadata": {},
   "outputs": [],
   "source": [
    "price=driver.find_elements(By.XPATH,'//div[@class=\"_30jeq3\"]')\n",
    "price"
   ]
  },
  {
   "cell_type": "code",
   "execution_count": null,
   "id": "121ccc71",
   "metadata": {},
   "outputs": [],
   "source": [
    "price_tag=[]\n",
    "for i in price:\n",
    "    price_tag.append(i.text)\n",
    "    \n",
    "price_tag"
   ]
  },
  {
   "cell_type": "code",
   "execution_count": null,
   "id": "44e302b7",
   "metadata": {},
   "outputs": [],
   "source": [
    "next_page=driver.find_element(By.CLASS_NAME,'_1LKTO3')\n",
    "next_page.click()"
   ]
  },
  {
   "cell_type": "code",
   "execution_count": null,
   "id": "e072c353",
   "metadata": {},
   "outputs": [],
   "source": [
    "page2=driver.find_elements(By.XPATH,'//div[@class=\"_2WkVRV\"]')"
   ]
  },
  {
   "cell_type": "code",
   "execution_count": null,
   "id": "15876218",
   "metadata": {},
   "outputs": [],
   "source": [
    "page2"
   ]
  },
  {
   "cell_type": "code",
   "execution_count": null,
   "id": "a98fc527",
   "metadata": {},
   "outputs": [],
   "source": [
    "brand2=[]\n",
    "for i in page2:\n",
    "     brand2.append(i.text)\n",
    "    \n",
    "brand2"
   ]
  },
  {
   "cell_type": "code",
   "execution_count": null,
   "id": "4995d401",
   "metadata": {},
   "outputs": [],
   "source": [
    "features2=driver.find_elements(By.XPATH,'//a[@class=\"IRpwTa\"]')\n",
    "features2"
   ]
  },
  {
   "cell_type": "code",
   "execution_count": null,
   "id": "fd7306ff",
   "metadata": {},
   "outputs": [],
   "source": [
    "features=[]\n",
    "for i in features2:\n",
    "    features.append(i.text)\n",
    "    \n",
    "features"
   ]
  },
  {
   "cell_type": "code",
   "execution_count": null,
   "id": "5eb46496",
   "metadata": {},
   "outputs": [],
   "source": [
    "price2=driver.find_elements(By.XPATH,'//div[@class=\"_30jeq3\"]')\n",
    "price2"
   ]
  },
  {
   "cell_type": "code",
   "execution_count": null,
   "id": "d48835f8",
   "metadata": {},
   "outputs": [],
   "source": [
    "price_page2=[]\n",
    "for i in price2:\n",
    "    price_page2.append(i.text)\n",
    "    \n",
    "price_page2"
   ]
  },
  {
   "cell_type": "code",
   "execution_count": null,
   "id": "b6d39535",
   "metadata": {},
   "outputs": [],
   "source": [
    "next_page=driver.find_element(By.CLASS_NAME,'_1LKTO3')"
   ]
  },
  {
   "cell_type": "code",
   "execution_count": null,
   "id": "7da41f9b",
   "metadata": {},
   "outputs": [],
   "source": [
    "next_page"
   ]
  },
  {
   "cell_type": "code",
   "execution_count": null,
   "id": "2af53a15",
   "metadata": {},
   "outputs": [],
   "source": [
    "next_page.click()"
   ]
  },
  {
   "cell_type": "code",
   "execution_count": null,
   "id": "bc4facc5",
   "metadata": {},
   "outputs": [],
   "source": [
    "page3=driver.find_elements(By.XPATH,'//div[@class=\"_2WkVRV\"]')\n",
    "page3"
   ]
  },
  {
   "cell_type": "code",
   "execution_count": null,
   "id": "a02ec438",
   "metadata": {},
   "outputs": [],
   "source": [
    "brand3=[]\n",
    "for i in page3:\n",
    "    brand3.append(i.text)\n",
    "    brand3.append:brand3[0:20]\n",
    "brand3"
   ]
  },
  {
   "cell_type": "code",
   "execution_count": null,
   "id": "f61e8ac6",
   "metadata": {},
   "outputs": [],
   "source": [
    "features3=driver.find_elements(By.XPATH,'//a[@class=\"IRpwTa\"]')\n",
    "features3"
   ]
  },
  {
   "cell_type": "code",
   "execution_count": null,
   "id": "4a2a7336",
   "metadata": {},
   "outputs": [],
   "source": [
    "features=[]\n",
    "for i in features3:\n",
    "    features.append(i.text)\n",
    "    \n",
    "features"
   ]
  },
  {
   "cell_type": "code",
   "execution_count": null,
   "id": "72d25dd9",
   "metadata": {},
   "outputs": [],
   "source": [
    "price3=driver.find_elements(By.XPATH,'//div[@class=\"_30jeq3\"]')\n",
    "price3"
   ]
  },
  {
   "cell_type": "code",
   "execution_count": null,
   "id": "7395fe5f",
   "metadata": {},
   "outputs": [],
   "source": [
    "price_page3=[]\n",
    "for i in price3:\n",
    "    price_page3.append(i.text)\n",
    "    \n",
    "price_page3"
   ]
  },
  {
   "cell_type": "code",
   "execution_count": null,
   "id": "d82f6bbe",
   "metadata": {},
   "outputs": [],
   "source": [
    "df = pd.DataFrame({})\n",
    "df['brand_name'] = name\n",
    "df['features'] = feature_name\n",
    "df['price'] = price_page3\n"
   ]
  },
  {
   "cell_type": "code",
   "execution_count": null,
   "id": "ed02a9af",
   "metadata": {},
   "outputs": [],
   "source": [
    "df"
   ]
  },
  {
   "cell_type": "markdown",
   "id": "0df42e4f",
   "metadata": {},
   "source": [
    "# Scrape 100 reviews data from flipkart.com for iphone11 phone. You have to go the link"
   ]
  },
  {
   "cell_type": "code",
   "execution_count": 59,
   "id": "853357f8",
   "metadata": {},
   "outputs": [],
   "source": [
    "driver = webdriver.Chrome(r'C:\\Users\\Abhinav Singh\\Downloads\\chromedriver_win32\\chromedriver.exe')"
   ]
  },
  {
   "cell_type": "code",
   "execution_count": 60,
   "id": "a1357bc1",
   "metadata": {},
   "outputs": [],
   "source": [
    "url5=\"https://www.flipkart.com/apple-iphone-11-black-64-gb/product-reviews/itm4e5041ba101fd?pid=MOBFWQ6BXGJCEYNY&lid=LSTMOBFWQ6BXGJCEYNYZXSHRJ&market\"\n",
    "place=\"FLIPKART\"\n",
    "driver.get(url5)"
   ]
  },
  {
   "cell_type": "code",
   "execution_count": 61,
   "id": "9a193116",
   "metadata": {},
   "outputs": [],
   "source": [
    "Rating=[]\n",
    "Review_summary=[]\n",
    "Full_review=[]"
   ]
  },
  {
   "cell_type": "code",
   "execution_count": 66,
   "id": "54fefbab",
   "metadata": {},
   "outputs": [
    {
     "ename": "InvalidSelectorException",
     "evalue": "Message: invalid selector: An invalid or illegal selector was specified\n  (Session info: chrome=108.0.5359.99)\nStacktrace:\nBacktrace:\n\t(No symbol) [0x010EF243]\n\t(No symbol) [0x01077FD1]\n\t(No symbol) [0x00F6D04D]\n\t(No symbol) [0x00F6FD34]\n\t(No symbol) [0x00F6FBE5]\n\t(No symbol) [0x00F6FE80]\n\t(No symbol) [0x00F9BD55]\n\t(No symbol) [0x00F9C22B]\n\t(No symbol) [0x00FCE612]\n\t(No symbol) [0x00FB85D4]\n\t(No symbol) [0x00FCC9EB]\n\t(No symbol) [0x00FB8386]\n\t(No symbol) [0x00F9163C]\n\t(No symbol) [0x00F9269D]\n\tGetHandleVerifier [0x01389A22+2655074]\n\tGetHandleVerifier [0x0137CA24+2601828]\n\tGetHandleVerifier [0x01198C0A+619850]\n\tGetHandleVerifier [0x01197830+614768]\n\t(No symbol) [0x010805FC]\n\t(No symbol) [0x01085968]\n\t(No symbol) [0x01085A55]\n\t(No symbol) [0x0109051B]\n\tBaseThreadInitThunk [0x76427BA9+25]\n\tRtlInitializeExceptionChain [0x7766BB9B+107]\n\tRtlClearBits [0x7766BB1F+191]\n",
     "output_type": "error",
     "traceback": [
      "\u001b[1;31m---------------------------------------------------------------------------\u001b[0m",
      "\u001b[1;31mInvalidSelectorException\u001b[0m                  Traceback (most recent call last)",
      "Input \u001b[1;32mIn [66]\u001b[0m, in \u001b[0;36m<cell line: 1>\u001b[1;34m()\u001b[0m\n\u001b[1;32m----> 1\u001b[0m Rating_tags\u001b[38;5;241m=\u001b[39m\u001b[43mdriver\u001b[49m\u001b[38;5;241;43m.\u001b[39;49m\u001b[43mfind_element\u001b[49m\u001b[43m(\u001b[49m\u001b[43mBy\u001b[49m\u001b[38;5;241;43m.\u001b[39;49m\u001b[43mCLASS_NAME\u001b[49m\u001b[43m,\u001b[49m\u001b[38;5;124;43m'\u001b[39;49m\u001b[38;5;124;43m//div[@class=\u001b[39;49m\u001b[38;5;124;43m\"\u001b[39;49m\u001b[38;5;124;43m_3LWZlK _1BLPMq\u001b[39;49m\u001b[38;5;124;43m\"\u001b[39;49m\u001b[38;5;124;43m]\u001b[39;49m\u001b[38;5;124;43m'\u001b[39;49m\u001b[43m)\u001b[49m\n",
      "File \u001b[1;32m~\\AppData\\Roaming\\Python\\Python39\\site-packages\\selenium\\webdriver\\remote\\webdriver.py:861\u001b[0m, in \u001b[0;36mWebDriver.find_element\u001b[1;34m(self, by, value)\u001b[0m\n\u001b[0;32m    858\u001b[0m     by \u001b[38;5;241m=\u001b[39m By\u001b[38;5;241m.\u001b[39mCSS_SELECTOR\n\u001b[0;32m    859\u001b[0m     value \u001b[38;5;241m=\u001b[39m \u001b[38;5;124m'\u001b[39m\u001b[38;5;124m[name=\u001b[39m\u001b[38;5;124m\"\u001b[39m\u001b[38;5;132;01m%s\u001b[39;00m\u001b[38;5;124m\"\u001b[39m\u001b[38;5;124m]\u001b[39m\u001b[38;5;124m'\u001b[39m \u001b[38;5;241m%\u001b[39m value\n\u001b[1;32m--> 861\u001b[0m \u001b[38;5;28;01mreturn\u001b[39;00m \u001b[38;5;28;43mself\u001b[39;49m\u001b[38;5;241;43m.\u001b[39;49m\u001b[43mexecute\u001b[49m\u001b[43m(\u001b[49m\u001b[43mCommand\u001b[49m\u001b[38;5;241;43m.\u001b[39;49m\u001b[43mFIND_ELEMENT\u001b[49m\u001b[43m,\u001b[49m\u001b[43m \u001b[49m\u001b[43m{\u001b[49m\u001b[38;5;124;43m\"\u001b[39;49m\u001b[38;5;124;43musing\u001b[39;49m\u001b[38;5;124;43m\"\u001b[39;49m\u001b[43m:\u001b[49m\u001b[43m \u001b[49m\u001b[43mby\u001b[49m\u001b[43m,\u001b[49m\u001b[43m \u001b[49m\u001b[38;5;124;43m\"\u001b[39;49m\u001b[38;5;124;43mvalue\u001b[39;49m\u001b[38;5;124;43m\"\u001b[39;49m\u001b[43m:\u001b[49m\u001b[43m \u001b[49m\u001b[43mvalue\u001b[49m\u001b[43m}\u001b[49m\u001b[43m)\u001b[49m[\u001b[38;5;124m\"\u001b[39m\u001b[38;5;124mvalue\u001b[39m\u001b[38;5;124m\"\u001b[39m]\n",
      "File \u001b[1;32m~\\AppData\\Roaming\\Python\\Python39\\site-packages\\selenium\\webdriver\\remote\\webdriver.py:444\u001b[0m, in \u001b[0;36mWebDriver.execute\u001b[1;34m(self, driver_command, params)\u001b[0m\n\u001b[0;32m    442\u001b[0m response \u001b[38;5;241m=\u001b[39m \u001b[38;5;28mself\u001b[39m\u001b[38;5;241m.\u001b[39mcommand_executor\u001b[38;5;241m.\u001b[39mexecute(driver_command, params)\n\u001b[0;32m    443\u001b[0m \u001b[38;5;28;01mif\u001b[39;00m response:\n\u001b[1;32m--> 444\u001b[0m     \u001b[38;5;28;43mself\u001b[39;49m\u001b[38;5;241;43m.\u001b[39;49m\u001b[43merror_handler\u001b[49m\u001b[38;5;241;43m.\u001b[39;49m\u001b[43mcheck_response\u001b[49m\u001b[43m(\u001b[49m\u001b[43mresponse\u001b[49m\u001b[43m)\u001b[49m\n\u001b[0;32m    445\u001b[0m     response[\u001b[38;5;124m\"\u001b[39m\u001b[38;5;124mvalue\u001b[39m\u001b[38;5;124m\"\u001b[39m] \u001b[38;5;241m=\u001b[39m \u001b[38;5;28mself\u001b[39m\u001b[38;5;241m.\u001b[39m_unwrap_value(response\u001b[38;5;241m.\u001b[39mget(\u001b[38;5;124m\"\u001b[39m\u001b[38;5;124mvalue\u001b[39m\u001b[38;5;124m\"\u001b[39m, \u001b[38;5;28;01mNone\u001b[39;00m))\n\u001b[0;32m    446\u001b[0m     \u001b[38;5;28;01mreturn\u001b[39;00m response\n",
      "File \u001b[1;32m~\\AppData\\Roaming\\Python\\Python39\\site-packages\\selenium\\webdriver\\remote\\errorhandler.py:249\u001b[0m, in \u001b[0;36mErrorHandler.check_response\u001b[1;34m(self, response)\u001b[0m\n\u001b[0;32m    247\u001b[0m         alert_text \u001b[38;5;241m=\u001b[39m value[\u001b[38;5;124m\"\u001b[39m\u001b[38;5;124malert\u001b[39m\u001b[38;5;124m\"\u001b[39m]\u001b[38;5;241m.\u001b[39mget(\u001b[38;5;124m\"\u001b[39m\u001b[38;5;124mtext\u001b[39m\u001b[38;5;124m\"\u001b[39m)\n\u001b[0;32m    248\u001b[0m     \u001b[38;5;28;01mraise\u001b[39;00m exception_class(message, screen, stacktrace, alert_text)  \u001b[38;5;66;03m# type: ignore[call-arg]  # mypy is not smart enough here\u001b[39;00m\n\u001b[1;32m--> 249\u001b[0m \u001b[38;5;28;01mraise\u001b[39;00m exception_class(message, screen, stacktrace)\n",
      "\u001b[1;31mInvalidSelectorException\u001b[0m: Message: invalid selector: An invalid or illegal selector was specified\n  (Session info: chrome=108.0.5359.99)\nStacktrace:\nBacktrace:\n\t(No symbol) [0x010EF243]\n\t(No symbol) [0x01077FD1]\n\t(No symbol) [0x00F6D04D]\n\t(No symbol) [0x00F6FD34]\n\t(No symbol) [0x00F6FBE5]\n\t(No symbol) [0x00F6FE80]\n\t(No symbol) [0x00F9BD55]\n\t(No symbol) [0x00F9C22B]\n\t(No symbol) [0x00FCE612]\n\t(No symbol) [0x00FB85D4]\n\t(No symbol) [0x00FCC9EB]\n\t(No symbol) [0x00FB8386]\n\t(No symbol) [0x00F9163C]\n\t(No symbol) [0x00F9269D]\n\tGetHandleVerifier [0x01389A22+2655074]\n\tGetHandleVerifier [0x0137CA24+2601828]\n\tGetHandleVerifier [0x01198C0A+619850]\n\tGetHandleVerifier [0x01197830+614768]\n\t(No symbol) [0x010805FC]\n\t(No symbol) [0x01085968]\n\t(No symbol) [0x01085A55]\n\t(No symbol) [0x0109051B]\n\tBaseThreadInitThunk [0x76427BA9+25]\n\tRtlInitializeExceptionChain [0x7766BB9B+107]\n\tRtlClearBits [0x7766BB1F+191]\n"
     ]
    }
   ],
   "source": [
    "Rating_tags=driver.find_element(By.CLASS_NAME,'//div[@class=\"_3LWZlK _1BLPMq\"]')"
   ]
  },
  {
   "cell_type": "raw",
   "id": "9a4eebe1",
   "metadata": {},
   "source": []
  },
  {
   "cell_type": "code",
   "execution_count": null,
   "id": "2db9c2a0",
   "metadata": {},
   "outputs": [],
   "source": []
  },
  {
   "cell_type": "code",
   "execution_count": null,
   "id": "9d3fad29",
   "metadata": {},
   "outputs": [],
   "source": []
  },
  {
   "cell_type": "markdown",
   "id": "1dba462b",
   "metadata": {},
   "source": [
    "# 6.Scrape data for first 100 sneakers you find when you visit flipkart.com andsearch for “sneakers"
   ]
  },
  {
   "cell_type": "code",
   "execution_count": null,
   "id": "2d6f41d9",
   "metadata": {},
   "outputs": [],
   "source": [
    "driver = webdriver.Chrome(r'C:\\Users\\Abhinav Singh\\Downloads\\chromedriver_win32\\chromedriver.exe')"
   ]
  },
  {
   "cell_type": "code",
   "execution_count": null,
   "id": "6df1f1b1",
   "metadata": {},
   "outputs": [],
   "source": [
    "url=\"https://www.flipkart.com/\"\n",
    "driver.get(url)"
   ]
  },
  {
   "cell_type": "code",
   "execution_count": null,
   "id": "9d034d33",
   "metadata": {},
   "outputs": [],
   "source": [
    "search_sneaker=driver.find_element(By.CLASS_NAME,'_3704LK')\n",
    "search_sneaker"
   ]
  },
  {
   "cell_type": "code",
   "execution_count": null,
   "id": "8dbdff87",
   "metadata": {},
   "outputs": [],
   "source": [
    "search_sneaker.send_keys('sneakers')"
   ]
  },
  {
   "cell_type": "code",
   "execution_count": null,
   "id": "d5a71d69",
   "metadata": {},
   "outputs": [],
   "source": [
    "search_btn=driver.find_element(By.CLASS_NAME,\"_34RNph\")\n",
    "search_btn.click()"
   ]
  },
  {
   "cell_type": "code",
   "execution_count": null,
   "id": "67f36c40",
   "metadata": {},
   "outputs": [],
   "source": [
    "brands = []\n",
    "prdcts = []\n",
    "price = []\n",
    "discount = []\n",
    "\n",
    "for k in range(1,4):\n",
    "\n",
    "    \n",
    "    brand = driver.find_elements_by_class_name('_2WkVRV')\n",
    "    \n",
    "\n",
    "    for i in brand:\n",
    "        brands.append(i.text)\n",
    "\n",
    "    desc = driver.find_elements_by_class_name('IRpwTa')\n",
    "    \n",
    "\n",
    "    for i in desc:\n",
    "        prdcts.append(i.text)\n",
    "\n",
    "    cost = driver.find_elements_by_class_name(\"_30jeq3\")\n",
    "    \n",
    "\n",
    "    for i in cost:\n",
    "        price.append(i.text)\n",
    "\n",
    "\n",
    "    dis = driver.find_elements_by_class_name(\"_3Ay6Sb\")\n",
    "    \n",
    "\n",
    "    for i in dis:\n",
    "        discount.append(i.text)\n",
    "    \n",
    "    \n",
    "        nxt_button=driver.find_elements_by_xpath(\"//a[@class='_1LKTO3']\")              \n",
    "    try:\n",
    "\n",
    "        driver.get(nxt_button[1].get_attribute('href'))\n",
    "        \n",
    "\n",
    "    except:\n",
    "\n",
    "        driver.get(nxt_button[0].get_attribute('href'))"
   ]
  },
  {
   "cell_type": "code",
   "execution_count": null,
   "id": "ae3cce3b",
   "metadata": {},
   "outputs": [],
   "source": [
    "brands = brands[0:100]\n",
    "prdcts = prdcts[0:100]\n",
    "price = price[0:100]\n",
    "discount = discount[0:100]"
   ]
  },
  {
   "cell_type": "code",
   "execution_count": null,
   "id": "5946c71d",
   "metadata": {},
   "outputs": [],
   "source": [
    "df = pd.DataFrame({})\n",
    "df['Brand name'] = brands\n",
    "df['Product descriptions'] = prdcts\n",
    "df['Price'] = price\n",
    "df['Discount'] = discount"
   ]
  },
  {
   "cell_type": "code",
   "execution_count": null,
   "id": "ee019b53",
   "metadata": {},
   "outputs": [],
   "source": [
    "df"
   ]
  },
  {
   "cell_type": "markdown",
   "id": "a82dbcb2",
   "metadata": {},
   "source": [
    "# 7: : Go to webpage https://www.amazon.in/\n",
    "Enter “Laptop” in the search field and then click the search icon"
   ]
  },
  {
   "cell_type": "code",
   "execution_count": null,
   "id": "16f89d2b",
   "metadata": {},
   "outputs": [],
   "source": [
    "driver = webdriver.Chrome(r'C:\\Users\\Abhinav Singh\\Downloads\\chromedriver_win32\\chromedriver.exe')"
   ]
  },
  {
   "cell_type": "code",
   "execution_count": null,
   "id": "dbb17d28",
   "metadata": {},
   "outputs": [],
   "source": [
    "url = \"https://www.amazon.in/s?k=LAPTOP&crid=PWL10CQUPM1I&sprefix=laptop%2Caps%2C216&ref=nb_sb_noss_1\"\n",
    "\n",
    "driver.get(url)"
   ]
  },
  {
   "cell_type": "code",
   "execution_count": null,
   "id": "c43f1797",
   "metadata": {},
   "outputs": [],
   "source": [
    "driver.find_element(By.ID,\"'twotabsearchtextbox'\").click()"
   ]
  },
  {
   "cell_type": "code",
   "execution_count": null,
   "id": "617d520f",
   "metadata": {},
   "outputs": [],
   "source": [
    "search.send_keys(\"Laptop\")"
   ]
  },
  {
   "cell_type": "code",
   "execution_count": null,
   "id": "db30bf54",
   "metadata": {},
   "outputs": [],
   "source": [
    "button_search=driver.find_element_by_id(\"nav-search-submit-button\")\n",
    "button_search.click()"
   ]
  },
  {
   "cell_type": "code",
   "execution_count": null,
   "id": "7872c4aa",
   "metadata": {},
   "outputs": [],
   "source": [
    "core_i7=driver.find_element_by_xpath(\"/html/body/div[1]/div[2]/div[1]/div[2]/div/div[3]/span/div[1]/div/div/div[6]/ul[3]/li[11]/span/a/div/label\")"
   ]
  },
  {
   "cell_type": "code",
   "execution_count": null,
   "id": "34db8e0d",
   "metadata": {},
   "outputs": [],
   "source": [
    "core_i7.click()"
   ]
  },
  {
   "cell_type": "code",
   "execution_count": null,
   "id": "7e8dc75f",
   "metadata": {},
   "outputs": [],
   "source": [
    "lap_title=driver.find_elements_by_xpath('//a[@class=\"a-link-normal s-underline-text s-underline-link-text s-link-style a-text-normal\"]')"
   ]
  },
  {
   "cell_type": "code",
   "execution_count": null,
   "id": "724d7802",
   "metadata": {},
   "outputs": [],
   "source": [
    "lap_title"
   ]
  },
  {
   "cell_type": "code",
   "execution_count": null,
   "id": "132e97b0",
   "metadata": {},
   "outputs": [],
   "source": [
    "lap_price=driver.find_elements_by_xpath('//span[@class=\"a-price-whole\"]')\n",
    "\n",
    "lap_price"
   ]
  },
  {
   "cell_type": "code",
   "execution_count": null,
   "id": "dfea5c88",
   "metadata": {},
   "outputs": [],
   "source": [
    "Ratings=driver.find_elements_by_xpath('//span[@class=\"a-icon-alt\"]')\n",
    "Ratings"
   ]
  },
  {
   "cell_type": "code",
   "execution_count": null,
   "id": "dab3aae5",
   "metadata": {},
   "outputs": [],
   "source": [
    "lapy=[]\n",
    "for i in lap_title:\n",
    "    lapy.append(i.text)\n",
    "    lapy=lapy[0:10]    \n",
    "lapy"
   ]
  },
  {
   "cell_type": "code",
   "execution_count": null,
   "id": "5eb97e9c",
   "metadata": {},
   "outputs": [],
   "source": [
    "price=[]\n",
    "for i in lap_price:\n",
    "    price.append(i.text)\n",
    "    price=price[0:10]    \n",
    "price"
   ]
  },
  {
   "cell_type": "code",
   "execution_count": null,
   "id": "12463eb4",
   "metadata": {},
   "outputs": [],
   "source": [
    "rat=[]\n",
    "for i in Ratings:\n",
    "    rat.append(i.text)\n",
    "    rat = rat[0:10]    \n",
    "rat"
   ]
  },
  {
   "cell_type": "code",
   "execution_count": null,
   "id": "ea4e1176",
   "metadata": {},
   "outputs": [],
   "source": [
    "df = pd.DataFrame({})\n",
    "df['Title'] = lapy \n",
    "df['Price'] = price\n",
    "df['Ratings'] = rat"
   ]
  },
  {
   "cell_type": "code",
   "execution_count": null,
   "id": "b4fc6f17",
   "metadata": {},
   "outputs": [],
   "source": [
    "df"
   ]
  },
  {
   "cell_type": "markdown",
   "id": "f25bafcf",
   "metadata": {},
   "source": [
    "# 8. Write a python program to scrape data for Top 1000 Quotes of All Time.\n",
    "The above task will be done in following steps:"
   ]
  },
  {
   "cell_type": "code",
   "execution_count": null,
   "id": "b97759f2",
   "metadata": {},
   "outputs": [],
   "source": [
    "driver = webdriver.Chrome(r'C:\\Users\\Abhinav Singh\\Downloads\\chromedriver_win32\\chromedriver.exe')"
   ]
  },
  {
   "cell_type": "code",
   "execution_count": null,
   "id": "97a5540a",
   "metadata": {},
   "outputs": [],
   "source": [
    "url=\"https://www.azquotes.com/search_results.html?query=quotes#\"\n",
    "driver.get(url)"
   ]
  },
  {
   "cell_type": "code",
   "execution_count": null,
   "id": "e83226f5",
   "metadata": {},
   "outputs": [],
   "source": [
    "search=driver.find_elements(By.TAG_NAME, 'a')\n"
   ]
  },
  {
   "cell_type": "code",
   "execution_count": null,
   "id": "cd099fa2",
   "metadata": {},
   "outputs": [],
   "source": [
    "search[10].text"
   ]
  },
  {
   "cell_type": "markdown",
   "id": "990b3484",
   "metadata": {},
   "source": [
    " ## 9 Write a python program to display list of respected former Prime Ministers of India(i.e. Name, Born-Dead,\n",
    "Term of office, Remarks)"
   ]
  },
  {
   "cell_type": "markdown",
   "id": "359f69cb",
   "metadata": {},
   "source": [
    "## 10 Write a python program to display list of 50 Most expensive cars in the world (i.e.\n",
    "Car name ,Description and Price)"
   ]
  },
  {
   "cell_type": "code",
   "execution_count": null,
   "id": "682a1506",
   "metadata": {},
   "outputs": [],
   "source": []
  }
 ],
 "metadata": {
  "kernelspec": {
   "display_name": "Python 3 (ipykernel)",
   "language": "python",
   "name": "python3"
  },
  "language_info": {
   "codemirror_mode": {
    "name": "ipython",
    "version": 3
   },
   "file_extension": ".py",
   "mimetype": "text/x-python",
   "name": "python",
   "nbconvert_exporter": "python",
   "pygments_lexer": "ipython3",
   "version": "3.9.12"
  }
 },
 "nbformat": 4,
 "nbformat_minor": 5
}
